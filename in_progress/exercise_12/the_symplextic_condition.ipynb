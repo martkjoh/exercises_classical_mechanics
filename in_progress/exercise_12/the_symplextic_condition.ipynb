{
 "metadata": {
  "language_info": {
   "codemirror_mode": {
    "name": "ipython",
    "version": 3
   },
   "file_extension": ".py",
   "mimetype": "text/x-python",
   "name": "python",
   "nbconvert_exporter": "python",
   "pygments_lexer": "ipython3",
   "version": "3.8.3-final"
  },
  "orig_nbformat": 2,
  "kernelspec": {
   "name": "python3",
   "display_name": "Python 3"
  }
 },
 "nbformat": 4,
 "nbformat_minor": 2,
 "cells": [
  {
   "source": [
    "# Exercise 12.3, the symplectic condition\n",
    "Doing symbolic algebra and calculus with Python and sympy"
   ],
   "cell_type": "markdown",
   "metadata": {}
  },
  {
   "cell_type": "code",
   "execution_count": 2,
   "metadata": {},
   "outputs": [],
   "source": [
    "import sympy as sp\n",
    "\n",
    "from IPython.display import display, Latex"
   ]
  },
  {
   "source": [
    "### A quick turtorial\n",
    "You can use sympy to declare variables as symbolic, and use them to create expressions. Sympy then have several functions for manipulating expressions"
   ],
   "cell_type": "markdown",
   "metadata": {}
  },
  {
   "cell_type": "code",
   "execution_count": 3,
   "metadata": {},
   "outputs": [
    {
     "output_type": "stream",
     "name": "stdout",
     "text": [
      "p**2 + 2*p*q + q**2\n(p + q)**2\np**2 + 2*p*q + q**2\n"
     ]
    }
   ],
   "source": [
    "q, p = sp.symbols(\"q, p\")\n",
    "expression = q**2 + 2 * q * p + p**2\n",
    "print(expression)\n",
    "print(sp.factor(expression))\n",
    "print(sp.expand(sp.factor(expression)))"
   ]
  },
  {
   "source": [
    "You can also define symbolic functions, and differentiate and integrate. IPython lets you print output as LaTeX"
   ],
   "cell_type": "markdown",
   "metadata": {}
  },
  {
   "source": [
    "t = sp.symbols(\"t\")\n",
    "ph = sp.Function(\"\\\\varphi\")(t)\n",
    "th = sp.Function(\"\\\\theta\")(t)\n",
    "L = sp.Function(\"L\")(th, ph)\n",
    "Latex(\"$\" + sp.latex(sp.diff(L)) + \"$\")"
   ],
   "cell_type": "code",
   "metadata": {},
   "execution_count": 4,
   "outputs": [
    {
     "output_type": "execute_result",
     "data": {
      "text/plain": [
       "<IPython.core.display.Latex object>"
      ],
      "text/latex": "$\\frac{d}{d \\theta{\\left(t \\right)}} L{\\left(\\theta{\\left(t \\right)},\\varphi{\\left(t \\right)} \\right)} \\frac{d}{d t} \\theta{\\left(t \\right)} + \\frac{d}{d \\varphi{\\left(t \\right)}} L{\\left(\\theta{\\left(t \\right)},\\varphi{\\left(t \\right)} \\right)} \\frac{d}{d t} \\varphi{\\left(t \\right)}$"
     },
     "metadata": {},
     "execution_count": 4
    }
   ]
  },
  {
   "source": [
    "The Matrix type lets you manipulate matrices with symbolical/functional entries, just what we need.  "
   ],
   "cell_type": "markdown",
   "metadata": {}
  },
  {
   "source": [
    "### Exercise 3 a)\n",
    "First, we define the original variables, and then the new variables via the transformation"
   ],
   "cell_type": "markdown",
   "metadata": {}
  },
  {
   "cell_type": "code",
   "execution_count": 5,
   "metadata": {},
   "outputs": [
    {
     "output_type": "execute_result",
     "data": {
      "text/plain": [
       "<IPython.core.display.Latex object>"
      ],
      "text/latex": "$Q=\\log{\\left(\\sqrt{q} \\cos{\\left(p \\right)} + 1 \\right)}\\quad P=\\sqrt{q} \\left(2 \\sqrt{q} \\cos{\\left(p \\right)} + 2\\right) \\sin{\\left(p \\right)}$"
     },
     "metadata": {},
     "execution_count": 5
    }
   ],
   "source": [
    "q, p = sp.symbols(\"q, p\")\n",
    "Q = sp.log(1 + sp.sqrt(q)*sp.cos(p))\n",
    "P = 2*(1 + sp.sqrt(q)*sp.cos(p))* sp.sqrt(q)*sp.sin(p)\n",
    "\n",
    "Latex(\"$Q=\" + sp.latex(Q) +\"\\quad P=\" + sp.latex(P) + \"$\")"
   ]
  },
  {
   "cell_type": "code",
   "execution_count": 6,
   "metadata": {},
   "outputs": [
    {
     "output_type": "execute_result",
     "data": {
      "text/plain": [
       "<IPython.core.display.Latex object>"
      ],
      "text/latex": "$J = \\left[\\begin{matrix}0 & 1\\\\-1 & 0\\end{matrix}\\right]$"
     },
     "metadata": {},
     "execution_count": 6
    }
   ],
   "source": [
    "J = sp.Matrix([\n",
    "    [0, 1], \n",
    "    [-1, 0]\n",
    "])\n",
    "Latex(\"$J = \" +sp.latex(J)+ \"$\")"
   ]
  },
  {
   "source": [
    "We can then construct the Jacobian by using built in functions "
   ],
   "cell_type": "markdown",
   "metadata": {}
  },
  {
   "source": [
    "M = sp.Matrix([Q, P]).jacobian([q, p])\n",
    "# display() needed if you want to print several things from one cell\n",
    "display(Latex(\"$M = \" +sp.latex(M)+ \"$\"))\n",
    "M = sp.simplify(M)\n",
    "display(Latex(\"$M = \" +sp.latex(M)+ \"$\"))"
   ],
   "cell_type": "code",
   "metadata": {},
   "execution_count": 12,
   "outputs": [
    {
     "output_type": "display_data",
     "data": {
      "text/plain": "<IPython.core.display.Latex object>",
      "text/latex": "$M = \\left[\\begin{matrix}\\frac{\\cos{\\left(p \\right)}}{2 \\sqrt{q} \\left(\\sqrt{q} \\cos{\\left(p \\right)} + 1\\right)} & - \\frac{\\sqrt{q} \\sin{\\left(p \\right)}}{\\sqrt{q} \\cos{\\left(p \\right)} + 1}\\\\\\sin{\\left(p \\right)} \\cos{\\left(p \\right)} + \\frac{\\left(2 \\sqrt{q} \\cos{\\left(p \\right)} + 2\\right) \\sin{\\left(p \\right)}}{2 \\sqrt{q}} & \\sqrt{q} \\left(2 \\sqrt{q} \\cos{\\left(p \\right)} + 2\\right) \\cos{\\left(p \\right)} - 2 q \\sin^{2}{\\left(p \\right)}\\end{matrix}\\right]$"
     },
     "metadata": {}
    },
    {
     "output_type": "display_data",
     "data": {
      "text/plain": "<IPython.core.display.Latex object>",
      "text/latex": "$M = \\left[\\begin{matrix}\\frac{\\cos{\\left(p \\right)}}{2 \\left(\\sqrt{q} + q \\cos{\\left(p \\right)}\\right)} & - \\frac{\\sqrt{q} \\sin{\\left(p \\right)}}{\\sqrt{q} \\cos{\\left(p \\right)} + 1}\\\\\\sin{\\left(2 p \\right)} + \\frac{\\sin{\\left(p \\right)}}{\\sqrt{q}} & 2 \\sqrt{q} \\cos{\\left(p \\right)} - 4 q \\sin^{2}{\\left(p \\right)} + 2 q\\end{matrix}\\right]$"
     },
     "metadata": {}
    }
   ]
  },
  {
   "source": [
    "We can now check the symplectic condition easily:"
   ],
   "cell_type": "markdown",
   "metadata": {}
  },
  {
   "cell_type": "code",
   "execution_count": 8,
   "metadata": {},
   "outputs": [
    {
     "output_type": "display_data",
     "data": {
      "text/plain": "<IPython.core.display.Latex object>",
      "text/latex": "$M J M^T = \\left[\\begin{matrix}0 & \\frac{\\sqrt{q} \\left(\\sin{\\left(2 p \\right)} + \\frac{\\sin{\\left(p \\right)}}{\\sqrt{q}}\\right) \\sin{\\left(p \\right)}}{\\sqrt{q} \\cos{\\left(p \\right)} + 1} + \\frac{\\left(2 \\sqrt{q} \\cos{\\left(p \\right)} - 4 q \\sin^{2}{\\left(p \\right)} + 2 q\\right) \\cos{\\left(p \\right)}}{2 \\left(\\sqrt{q} + q \\cos{\\left(p \\right)}\\right)}\\\\- \\frac{\\sqrt{q} \\left(\\sin{\\left(2 p \\right)} + \\frac{\\sin{\\left(p \\right)}}{\\sqrt{q}}\\right) \\sin{\\left(p \\right)}}{\\sqrt{q} \\cos{\\left(p \\right)} + 1} + \\frac{\\left(- 2 \\sqrt{q} \\cos{\\left(p \\right)} + 4 q \\sin^{2}{\\left(p \\right)} - 2 q\\right) \\cos{\\left(p \\right)}}{2 \\left(\\sqrt{q} + q \\cos{\\left(p \\right)}\\right)} & \\left(\\sin{\\left(2 p \\right)} + \\frac{\\sin{\\left(p \\right)}}{\\sqrt{q}}\\right) \\left(- 2 \\sqrt{q} \\cos{\\left(p \\right)} + 4 q \\sin^{2}{\\left(p \\right)} - 2 q\\right) + \\left(\\sin{\\left(2 p \\right)} + \\frac{\\sin{\\left(p \\right)}}{\\sqrt{q}}\\right) \\left(2 \\sqrt{q} \\cos{\\left(p \\right)} - 4 q \\sin^{2}{\\left(p \\right)} + 2 q\\right)\\end{matrix}\\right]$"
     },
     "metadata": {}
    },
    {
     "output_type": "display_data",
     "data": {
      "text/plain": "<IPython.core.display.Latex object>",
      "text/latex": "$M J M^T = \\left[\\begin{matrix}0 & 1\\\\-1 & 0\\end{matrix}\\right]$"
     },
     "metadata": {}
    },
    {
     "output_type": "display_data",
     "data": {
      "text/plain": "<IPython.core.display.Latex object>",
      "text/latex": "$J = \\left[\\begin{matrix}0 & 1\\\\-1 & 0\\end{matrix}\\right]$"
     },
     "metadata": {}
    }
   ],
   "source": [
    "A = M * J * M.T\n",
    "display(Latex(\"$M J M^T = \" +sp.latex(A)+ \"$\"))\n",
    "A = sp.simplify(A)\n",
    "display(Latex(\"$M J M^T = \" +sp.latex(A)+ \"$\"))\n",
    "display(Latex(\"$J = \" +sp.latex(J)+ \"$\"))"
   ]
  }
 ]
}